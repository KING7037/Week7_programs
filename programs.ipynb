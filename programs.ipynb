{
 "cells": [
  {
   "cell_type": "markdown",
   "metadata": {},
   "source": [
    "1. Write and test a function that takes a string as a parameter and returns a sorted list\n",
    "of all the unique letters used in the string. So, if the string is cheese, the list\n",
    "returned should be ['c'\n",
    "'e'\n",
    "'h'\n",
    ",\n",
    ",\n",
    ",\n",
    "'s']."
   ]
  },
  {
   "cell_type": "code",
   "execution_count": 1,
   "metadata": {},
   "outputs": [
    {
     "name": "stdout",
     "output_type": "stream",
     "text": [
      "[' ', 'd', 'e', 'h', 'l', 'o', 'r', 'w']\n"
     ]
    }
   ],
   "source": [
    "def test(name):\n",
    "    return sorted(set(name))\n",
    "name=input(\"enter a string:\")\n",
    "out=test(name)\n",
    "print(out)\n",
    "    "
   ]
  },
  {
   "cell_type": "markdown",
   "metadata": {},
   "source": [
    "2. Write and test three functions that each take two words (strings) as parameters and\n",
    "return sorted lists (as defined above) representing respectively:\n",
    "Letters that appear in at least one of the two words.\n",
    "Letters that appear in both words.\n",
    "Letters that appear in either word, but not in bot "
   ]
  },
  {
   "cell_type": "code",
   "execution_count": 4,
   "metadata": {},
   "outputs": [
    {
     "name": "stdout",
     "output_type": "stream",
     "text": [
      "Letters in at least one word:  ['a', 'b', 'e', 'l', 'n', 'p', 't']\n",
      "Letters in both words:  ['a', 'l']\n",
      "Letters in either but not both:  ['b', 'e', 'n', 'p', 't']\n"
     ]
    }
   ],
   "source": [
    "def appear_at_least_once(word1, word2):\n",
    "    return sorted(set(word1) | set(word2))\n",
    "\n",
    "def appear_both(word1, word2):\n",
    "    return sorted(set(word1) & set(word2))\n",
    "\n",
    "def either_but_not_both(word1, word2):\n",
    "    return sorted(set(word1) ^ set(word2))\n",
    "\n",
    "word1 = \"ball\"\n",
    "word2 = \"planet\"\n",
    "\n",
    "print(\"Letters in at least one word: \", appear_at_least_once(word1, word2))\n",
    "print(\"Letters in both words: \", appear_both(word1, word2))\n",
    "print(\"Letters in either but not both: \", either_but_not_both(word1, word2))\n"
   ]
  },
  {
   "cell_type": "markdown",
   "metadata": {},
   "source": [
    "3. Write a program that manages a list of countries and their capital cities. It should\n",
    "prompt the user to enter the name of a country. If the program already \"knows\"\n",
    "the name of the capital city, it should display it. Otherwise it should ask the user to\n",
    "enter it. This should carry on until the user terminates the program (how this\n",
    "happens is up to you \n",
    "Note: A good solution to this task will be able to cope with the country being entered\n",
    "variously as, for example,\n",
    "\"Wales\"\n",
    "\"wales\"\n",
    "\"WALES\" and so on."
   ]
  },
  {
   "cell_type": "code",
   "execution_count": 6,
   "metadata": {},
   "outputs": [
    {
     "name": "stdout",
     "output_type": "stream",
     "text": [
      "welcome \n",
      "no capital known \n",
      "Nepal capital Kathmandu\n",
      "no capital known \n",
      "Spain  capital Madrid\n"
     ]
    }
   ],
   "source": [
    "countries={}\n",
    "print(\"welcome \")\n",
    "while True:\n",
    "    enter= input(\"enter the country to see its capital;\")\n",
    "    coutry=enter.title\n",
    "\n",
    "    if enter  in countries:\n",
    "        print(f\"{enter} capital is {countries[enter]}\")\n",
    "    else:\n",
    "        print(\"no capital known \")\n",
    "        capital=input(\"enter the capital\")\n",
    "        countries[enter]=capital.strip()\n",
    "        print(f\"{enter} capital {countries[enter]}\")\n",
    "    continuee=input(\"do you want to contine (y/n)\")\n",
    "    if continuee.lower() ==\"n\":\n",
    "        break\n"
   ]
  },
  {
   "cell_type": "markdown",
   "metadata": {},
   "source": [
    "4. One approach to analysing some encrypted data where a substitution is suspected\n",
    "is frequency analysis. A count of the diﬀerent symbols in the message can be used\n",
    "to identify the language used, and sometimes some of the letters. In English, the\n",
    "most common letter is \"e\"\n",
    ", and so the symbol representing \"e\" should appear most\n",
    "in the encrypted text.\n",
    "Write a program that processes a string representing a message and reports the six\n",
    "most common letters, along with the number of times they appear. Case should\n",
    "not matter, so \"E\" and \"e\" are considered the same.\n",
    "Hint: There are many ways to do this. It is obviously a dictionary, but we will want\n",
    "zero counts, so some initialisation is needed. Also, sorting dictionaries is tricky, so\n",
    "best to ignore that initially, and then check the usual resources for the runes."
   ]
  },
  {
   "cell_type": "code",
   "execution_count": null,
   "metadata": {},
   "outputs": [
    {
     "name": "stdout",
     "output_type": "stream",
     "text": [
      "  : 6\n",
      "l : 4\n",
      "r : 4\n",
      "n : 4\n",
      "o : 3\n",
      "i : 3\n",
      "l : 3\n",
      "o : 2\n",
      "h : 1\n",
      "e : 1\n",
      "  : 1\n",
      "w : 1\n"
     ]
    }
   ],
   "source": [
    "while True:\n",
    "    message=input(\"enter the message\")\n",
    "    message=message.lower()\n",
    "    final=\"\".join(message)\n",
    "    counts={}\n",
    "    for letter in final:\n",
    "        counts[letter]=counts.get(letter,0)+1\n",
    "    sorted_list=sorted(counts.items(), key=lambda x : x[1], reverse=True )\n",
    "    final_list=sorted_list[:6]\n",
    "    for word, count in final_list:\n",
    "        print(f\"{word} : {count}\")\n",
    "    con=input(\"do you want to continue?\")\n",
    "    con=con.lower()\n",
    "    if con=='n':\n",
    "        break\n"
   ]
  },
  {
   "cell_type": "code",
   "execution_count": null,
   "metadata": {},
   "outputs": [],
   "source": []
  }
 ],
 "metadata": {
  "kernelspec": {
   "display_name": "Python 3",
   "language": "python",
   "name": "python3"
  },
  "language_info": {
   "codemirror_mode": {
    "name": "ipython",
    "version": 3
   },
   "file_extension": ".py",
   "mimetype": "text/x-python",
   "name": "python",
   "nbconvert_exporter": "python",
   "pygments_lexer": "ipython3",
   "version": "3.13.1"
  }
 },
 "nbformat": 4,
 "nbformat_minor": 2
}
